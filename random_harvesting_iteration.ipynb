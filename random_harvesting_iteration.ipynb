{
 "cells": [
  {
   "cell_type": "markdown",
   "id": "9e7fab63",
   "metadata": {},
   "source": [
    "### This is the iteration script of randomely selecting the harvesting style\n",
    "\n",
    "**It generates initial solution as before. Then from the initial solution, it just changes the harvesting style slection in each iteration and generates new result based on that. Harvesting styles are selected randomely**"
   ]
  },
  {
   "cell_type": "code",
   "execution_count": 1,
   "id": "9cbddacf",
   "metadata": {},
   "outputs": [],
   "source": [
    "#importing the necessary libraries\n",
    "import pandas as pd\n",
    "import numpy as np\n",
    "import random"
   ]
  },
  {
   "cell_type": "code",
   "execution_count": 2,
   "id": "001b1b94",
   "metadata": {},
   "outputs": [],
   "source": [
    "#Defining all parameters and variables\n",
    "\n",
    "s = list(range(0,30))\n",
    "p = list(range(0,6))\n",
    "l = list(range(0,3))\n",
    "\n",
    "Qspl = []  #Qspl[s][p][l]  #Quantity\n",
    "\n",
    "#creating 30x6x3 list with 0 values\n",
    "for i in range(len(s)):\n",
    "    temp_p = []\n",
    "    for j in range(len(p)):\n",
    "        temp_l = [0]*len(l)\n",
    "        temp_p.append(temp_l)\n",
    "    Qspl.append(temp_p)\n",
    "            \n",
    "#creating 30x1\n",
    "Ys = [0]*len(s)  #Supplier selection binary variable, 0 or 1\n",
    "\n",
    "Zsl = []   #l selection by supplier binary variable, 0 or 1\n",
    "for i in range(len(s)):\n",
    "    temp_s = [0]*len(l)\n",
    "    Zsl.append(temp_s)\n",
    "\n",
    "FCs = []\n",
    "CSl = np.array([8.46, 30.16, 7.14])\n",
    "CNFl = np.array([7.67, 8.08, 8.6])\n",
    "CPFl = np.array([5.22, 4.09, 4.11])\n",
    "CKFl = np.array([5.04, 6.35, 5.16])\n",
    "CHl = np.array([4.31, 5.72, 3.15])\n",
    "CPl = np.array([0.19, 0.41, 0.19])\n",
    "CMl = np.array([9.4, 6.14, 5.46])\n",
    "CSPl = np.array([4.07, 3.21, 2.76])\n",
    "COl = np.array([7.79, 6.23, 6.84])\n",
    "CONSl = np.array([1.66, 2.59, 1.44]) \n",
    "CONNFl = np.array([10.2, 10.8, 11.6])\n",
    "CONPFl = np.array([5.93, 4.55, 5.0])\n",
    "CONKFl = np.array([7.69, 10.18, 8])\n",
    "CONHl = np.array([0.02, 0.13, 0.06])\n",
    "CONPl = np.array([0.001, 0.001, 0.001])\n",
    "CONMl = np.array([1.17, 0.61, 1.01])\n",
    "CONSPl = np.array([0.26, 0.19, 0.32])\n",
    "CONOl = np.array([6.88, 4.39, 6.22])\n",
    "CLAB = 12.85\n",
    "CF = 4.18\n",
    "AEF = 9.817\n",
    "WT = 25\n",
    "\n",
    "Dsp = []\n",
    "for i in range(len(s)):\n",
    "    Dsp.append([])\n",
    "    \n",
    "CEHl = np.array([184.8, 178, 189.8])\n",
    "CEF = 0.048\n",
    "CAPs = []\n",
    "DEMp = np.array([660435, 660435, 1320870, 584231, 1524080, 1371672])"
   ]
  },
  {
   "cell_type": "code",
   "execution_count": 3,
   "id": "f19ff347",
   "metadata": {},
   "outputs": [],
   "source": [
    "#Reading parameter values\n",
    "\n",
    "#capacity\n",
    "capacity = pd.read_excel('/Users/zaidur/Documents/MOO_Corn/capacity.xlsx')\n",
    "CAPs = list(capacity[\" corn Production  ton\"]) #capacities\n",
    "\n",
    "#distance\n",
    "distance = pd.read_excel('/Users/zaidur/Documents/MOO_Corn/Distance.xlsx')\n",
    "distance = distance.drop('Plant', axis=1)\n",
    "for i in range(len(s)):\n",
    "    for j in range(len(p)):\n",
    "        Dsp[i].append(distance.iloc[i,j])\n",
    "Dsp = np.array(Dsp)\n",
    "\n",
    "#fixed cost\n",
    "fixed_cost = pd.read_excel('/Users/zaidur/Documents/MOO_Corn/Fixed cost.xlsx')\n",
    "FCs = list(fixed_cost['Fixed cost'])\n",
    "FCs = np.array(FCs)"
   ]
  },
  {
   "cell_type": "code",
   "execution_count": 4,
   "id": "9f9da8ef",
   "metadata": {},
   "outputs": [],
   "source": [
    "#generating initial solution of the variables\n",
    "\n",
    "CAPs_copy = CAPs.copy()\n",
    "DEMp_copy = DEMp.copy()\n",
    "for plant in range(len(p)):\n",
    "    distance = distance.sort_values(distance.columns[plant]) #sort the plant column by minimum distance\n",
    "    quant = 0\n",
    "    index = 0\n",
    "    remaining_demand = DEMp[plant]\n",
    "    while quant < DEMp[plant]:\n",
    "        supplier = distance.index[index]\n",
    "        if CAPs[supplier] >= remaining_demand:  #if capacity is larger than demand\n",
    "            quant = quant + remaining_demand\n",
    "            \n",
    "            #assign the decision variables Qspl, Zsl, Ys\n",
    "            chosen_l = random.choice([0, 1, 2])   #randomely choose one of the three harvesting style or l to be 1\n",
    "            #Qspl[supplier][plant].append(remaining_demand)\n",
    "            Qspl[supplier][plant][chosen_l] = remaining_demand\n",
    "            if 1 not in Zsl[supplier]:    \n",
    "                Zsl[supplier][chosen_l] = 1\n",
    "            Ys[supplier] = 1\n",
    "            \n",
    "            CAPs[supplier] = CAPs[supplier] - remaining_demand\n",
    "            remaining_demand = DEMp[plant] - quant\n",
    "            \n",
    "        else:\n",
    "            quant = quant + CAPs[supplier]\n",
    "            \n",
    "            #Qspl[supplier][plant].append(CAPs[supplier])\n",
    "            #assign the decision variables Qspl, Zsl, Ys\n",
    "            chosen_l = random.choice([0, 1, 2])   #randomely choose one of the three harvesting style or l to be 1\n",
    "            #Qspl[supplier][plant].append(remaining_demand)\n",
    "            Qspl[supplier][plant][chosen_l] = CAPs[supplier]\n",
    "            if 1 not in Zsl[supplier]:\n",
    "                Zsl[supplier][chosen_l] = 1\n",
    "            Ys[supplier] = 1\n",
    "            \n",
    "            remaining_demand = DEMp[plant] - quant\n",
    "            index = index + 1\n",
    "            CAPs[supplier] = 0\n",
    "\n",
    "Qspl = np.array(Qspl)\n",
    "Ys = np.array(Ys)\n",
    "Zsl = np.array(Zsl)"
   ]
  },
  {
   "cell_type": "code",
   "execution_count": 12,
   "id": "cbeebd4f",
   "metadata": {},
   "outputs": [],
   "source": [
    "#Run the function defining cells"
   ]
  },
  {
   "cell_type": "code",
   "execution_count": 8,
   "id": "864072c7",
   "metadata": {},
   "outputs": [],
   "source": [
    "#Initial objective function calculation\n",
    "\n",
    "w1 = random.uniform(0, 1) #randomly generated weights\n",
    "w2 = 1 - w1\n",
    "\n",
    "harvestCost = get_harvestCost(Qspl)\n",
    "TransportCost = get_TransportCost(Qspl)\n",
    "\n",
    "obj1 = harvestCost+TransportCost  #Objective Function 1\n",
    "obj2 = get_obj2(Qspl)\n",
    "\n",
    "obj_sum=w1*obj1+w2*obj2\n",
    "\n"
   ]
  },
  {
   "cell_type": "code",
   "execution_count": 9,
   "id": "2c607e5a",
   "metadata": {
    "scrolled": true
   },
   "outputs": [
    {
     "name": "stderr",
     "output_type": "stream",
     "text": [
      "Processing: 100%|██████████████████████| 10000/10000 [00:43<00:00, 229.41item/s]\n"
     ]
    }
   ],
   "source": [
    "\"\"\"\n",
    "Iteration for random selection of harvesting style (l)\n",
    "\n",
    "\"\"\"\n",
    "\n",
    "from tqdm import tqdm\n",
    "import time\n",
    "\n",
    "obj1_list = []\n",
    "obj2_list = []\n",
    "obj_sum_list = []\n",
    "\n",
    "# Make a copy of the original array\n",
    "Qspl_copy = np.copy(Qspl)\n",
    "\n",
    "Zsl_copy = np.zeros_like(Zsl)  # Assuming Zsl has shape (30, 3)\n",
    "\n",
    "harvestCost = get_harvestCost(Qspl)\n",
    "\n",
    "\n",
    "for itr in tqdm(range(10000), desc=\"Processing\", unit=\"item\"):\n",
    "    \n",
    "    # Randomly shuffle the selection of harvesting styles and create new Qspl_copy and Zsl_copy everytime\n",
    "    for i in range(Qspl_copy.shape[0]):\n",
    "        for j in range(Qspl_copy.shape[1]):\n",
    "            np.random.shuffle(Qspl_copy[i, j])\n",
    "    \n",
    "    for i in range(Qspl_copy.shape[0]):\n",
    "        for j in range(Qspl_copy.shape[1]):\n",
    "            non_zero_position = np.where(Qspl_copy[i, j] != 0)[0]  # Get the position of non-zero element\n",
    "            if non_zero_position.size > 0:  # If a non-zero element exists\n",
    "                Zsl_copy[i, non_zero_position[0]] = 1\n",
    "                \n",
    "    new_harvestCost = get_harvestCost(Qspl_copy)\n",
    "#     print(\"harvest cost for iteration - \", itr+1, new_harvestCost)\n",
    "    \n",
    "    #1st Accepting criteria of the random selection, new harvestCost has be between 80% and 120% of the old harvestCost\n",
    "    if new_harvestCost> 0.8*harvestCost and new_harvestCost< 1.2*harvestCost:\n",
    "        harvestCost = new_harvestCost\n",
    "#         print(\"harvest cost changed for iteration - \", itr+1, harvestCost)\n",
    "        TransportCost = get_TransportCost(Qspl_copy)\n",
    "        \n",
    "        obj2 = get_obj2(Qspl_copy)\n",
    "        obj1 = harvestCost+TransportCost\n",
    "        new_obj_sum=w1*obj1+w2*obj2\n",
    "#         print(\"obj_sum for iteration - \", itr+1, new_obj_sum)\n",
    "        \n",
    "    \n",
    "        #2nd Accepting criteria of the random selection, new objective function has to be better than the previous one\n",
    "        if new_obj_sum < obj_sum:\n",
    "            obj_sum = new_obj_sum\n",
    "#             print(\"obj_sum changed for iteration - \", itr+1, obj_sum)\n",
    "            \n",
    "            #Store the obj1 and obj2\n",
    "            obj1_list.append(obj1)\n",
    "            obj2_list.append(obj2)\n",
    "            obj_sum_list.append(obj_sum)\n",
    "        else:\n",
    "            continue\n",
    "        \n",
    "    else:\n",
    "        continue"
   ]
  },
  {
   "cell_type": "code",
   "execution_count": 29,
   "id": "621e025f",
   "metadata": {},
   "outputs": [
    {
     "data": {
      "text/plain": [
       "[]"
      ]
     },
     "execution_count": 29,
     "metadata": {},
     "output_type": "execute_result"
    }
   ],
   "source": [
    "obj1_list"
   ]
  },
  {
   "cell_type": "code",
   "execution_count": 30,
   "id": "2c372e90",
   "metadata": {},
   "outputs": [
    {
     "data": {
      "text/plain": [
       "[]"
      ]
     },
     "execution_count": 30,
     "metadata": {},
     "output_type": "execute_result"
    }
   ],
   "source": [
    "obj2_list"
   ]
  },
  {
   "cell_type": "code",
   "execution_count": 31,
   "id": "f7d7a9a4",
   "metadata": {},
   "outputs": [
    {
     "data": {
      "text/plain": [
       "[]"
      ]
     },
     "execution_count": 31,
     "metadata": {},
     "output_type": "execute_result"
    }
   ],
   "source": [
    "obj_sum_list"
   ]
  },
  {
   "cell_type": "code",
   "execution_count": 10,
   "id": "6fbf12f7",
   "metadata": {},
   "outputs": [
    {
     "data": {
      "image/png": "[encoded data removed]",
      "text/plain": [
       "<Figure size 432x288 with 1 Axes>"
      ]
     },
     "metadata": {
      "needs_background": "light"
     },
     "output_type": "display_data"
    }
   ],
   "source": [
    "import matplotlib.pyplot as plt\n",
    "\n",
    "\n",
    "# Create scatter plot\n",
    "plt.scatter(obj1_list, obj2_list)\n",
    "\n",
    "# Set labels and title\n",
    "plt.xlabel('obj1_list')\n",
    "plt.ylabel('obj2_list')\n",
    "plt.title('Scatter Plot of obj1_list vs obj2_list')\n",
    "\n",
    "# Display the plot\n",
    "plt.show()\n"
   ]
  },
  {
   "cell_type": "code",
   "execution_count": 11,
   "id": "ff1ff166",
   "metadata": {},
   "outputs": [
    {
     "data": {
      "image/png": "[encoded data removed]",
      "text/plain": [
       "<Figure size 432x288 with 1 Axes>"
      ]
     },
     "metadata": {
      "needs_background": "light"
     },
     "output_type": "display_data"
    }
   ],
   "source": [
    "import matplotlib.pyplot as plt\n",
    "\n",
    "# Create scatter plot\n",
    "plt.scatter(range(len(obj_sum_list)), obj_sum_list)\n",
    "\n",
    "# Set labels and title\n",
    "plt.xlabel('Position')\n",
    "plt.ylabel('Value')\n",
    "plt.title('Scatter Plot of obj_sum_list')\n",
    "\n",
    "# Display the plot\n",
    "plt.show()\n"
   ]
  },
  {
   "cell_type": "code",
   "execution_count": 5,
   "id": "9f779b00",
   "metadata": {},
   "outputs": [],
   "source": [
    "\"\"\"\n",
    "Function for getting the harvest cost with argument Qspl. All the other variables are global variables.\n",
    "\n",
    "\"\"\"\n",
    "\n",
    "def get_harvestCost(Qspl):\n",
    "    #Getting the objective function value from generated variables and parameters\n",
    "\n",
    "    ceHarvestingSum = 0   #Carbon emission harvesting, sum of CEHl * Qspl\n",
    "    for supplier in Qspl:\n",
    "        for plant in supplier:\n",
    "            ceHarvestingSum = ceHarvestingSum + CEHl@plant\n",
    "\n",
    "    transportSum = 0 #Carbon emission transportation, sum of DSp * Qspl\n",
    "    for supplier in range(len(Qspl)):\n",
    "        plant_ls = []\n",
    "        for plant in Qspl[supplier]:\n",
    "            sum_l = sum(plant)\n",
    "            plant_ls.append(sum_l)\n",
    "        plant_ls = np.array(plant_ls)\n",
    "        transportSum = transportSum + Dsp[supplier]@plant_ls\n",
    "    ceTransportSum = transportSum * CEF\n",
    "\n",
    "    obj2=ceHarvestingSum+transportSum #objective Function 2\n",
    "\n",
    "    FC=Ys@FCs #Fixed cost \n",
    "\n",
    "    cons1 = CSl * CONSl #cost for seedbeds\n",
    "    csSum = 0\n",
    "    for supplier in Qspl:\n",
    "        for plant in supplier:\n",
    "            csSum = csSum + cons1@plant\n",
    "\n",
    "\n",
    "    cons2 = CNFl * CONNFl #cost for N fertilizer\n",
    "    cnfSum = 0\n",
    "    for supplier in Qspl:\n",
    "        for plant in supplier:\n",
    "            cnfSum = cnfSum + cons2@plant\n",
    "\n",
    "\n",
    "    cons3 = CPFl * CONPFl #cost for P fertilizer\n",
    "    cpfSum = 0\n",
    "    for supplier in Qspl:\n",
    "        for plant in supplier:\n",
    "            cpfSum = cpfSum + cons3@plant\n",
    "\n",
    "\n",
    "    cons4 = CKFl * CONKFl #cost for K fertilizer\n",
    "    ckfSum = 0\n",
    "    for supplier in Qspl:\n",
    "        for plant in supplier:\n",
    "            ckfSum = ckfSum + cons4@plant\n",
    "\n",
    "\n",
    "    cons5 = CHl * CONHl # cost for herbicides\n",
    "    chSum = 0\n",
    "    for supplier in Qspl:\n",
    "        for plant in supplier:\n",
    "            chSum = chSum + cons5@plant\n",
    "\n",
    "\n",
    "    cons6 = CPl * CONPl #cost for pesticides\n",
    "    cpSum = 0\n",
    "    for supplier in Qspl:\n",
    "        for plant in supplier:\n",
    "            cpSum = cpSum + cons6@plant\n",
    "\n",
    "\n",
    "    cons7 = CMl * CONMl #cost for machinaries\n",
    "    cmSum = 0\n",
    "    for supplier in Qspl:\n",
    "        for plant in supplier:\n",
    "            cmSum = cmSum + cons7@plant\n",
    "\n",
    "\n",
    "    cons8 = CSPl * CONSPl #cost for spare parts\n",
    "    cspSum = 0\n",
    "    for supplier in Qspl:\n",
    "        for plant in supplier:\n",
    "            cspSum = cspSum + cons8@plant\n",
    "\n",
    "\n",
    "    cons9 = COl * CONOl #cost for oil\n",
    "    coSum = 0\n",
    "    for supplier in Qspl:\n",
    "        for plant in supplier:\n",
    "            coSum = coSum + cons9@plant\n",
    "\n",
    "\n",
    "            qsplSum = 0 #labour cost\n",
    "    for supplier in Qspl:\n",
    "        for plant in supplier:\n",
    "            qsplSum = qsplSum + sum(plant)\n",
    "    clabSum = CLAB * qsplSum\n",
    "\n",
    "\n",
    "    harvestCost=FC+csSum+cnfSum+cpfSum+ckfSum+chSum+cpSum+cmSum+cspSum+coSum+clabSum #Harvesting cost\n",
    "    \n",
    "    return harvestCost"
   ]
  },
  {
   "cell_type": "code",
   "execution_count": 6,
   "id": "bca2499a",
   "metadata": {},
   "outputs": [],
   "source": [
    "\"\"\"\n",
    "Function for getting the TransportCost with argument Qspl. All the other variables are global variables.\n",
    "\n",
    "\"\"\"\n",
    "\n",
    "def get_TransportCost(Qspl):\n",
    "    \n",
    "    transportSum = 0 #Carbon emission transportation, sum of DSp * Qspl\n",
    "    for supplier in range(len(Qspl)):\n",
    "        plant_ls = []\n",
    "        for plant in Qspl[supplier]:\n",
    "            sum_l = sum(plant)\n",
    "            plant_ls.append(sum_l)\n",
    "        plant_ls = np.array(plant_ls)\n",
    "        transportSum = transportSum + Dsp[supplier]@plant_ls\n",
    "    \n",
    "    transportCost = (transportSum*CF)/(AEF*WT) #transportation cost\n",
    "    \n",
    "    return transportCost"
   ]
  },
  {
   "cell_type": "code",
   "execution_count": 7,
   "id": "43575176",
   "metadata": {},
   "outputs": [],
   "source": [
    "\"\"\"\n",
    "Function for getting the obj2 with argument Qspl. All the other variables are global variables.\n",
    "\n",
    "\"\"\"\n",
    "\n",
    "def get_obj2(Qspl):\n",
    "    ceHarvestingSum = 0   #Carbon emission harvesting, sum of CEHl * Qspl\n",
    "    for supplier in Qspl:\n",
    "        for plant in supplier:\n",
    "            ceHarvestingSum = ceHarvestingSum + CEHl@plant\n",
    "\n",
    "    transportSum = 0 #Carbon emission transportation, sum of DSp * Qspl\n",
    "    for supplier in range(len(Qspl)):\n",
    "        plant_ls = []\n",
    "        for plant in Qspl[supplier]:\n",
    "            sum_l = sum(plant)\n",
    "            plant_ls.append(sum_l)\n",
    "        plant_ls = np.array(plant_ls)\n",
    "        transportSum = transportSum + Dsp[supplier]@plant_ls\n",
    "    ceTransportSum = transportSum * CEF\n",
    "\n",
    "    obj2=ceHarvestingSum+transportSum #objective Function 2\n",
    "    \n",
    "    return obj2"
   ]
  },
  {
   "cell_type": "code",
   "execution_count": null,
   "id": "2aa38f0a",
   "metadata": {},
   "outputs": [],
   "source": []
  }
 ],
 "metadata": {
  "kernelspec": {
   "display_name": "Python 3 (ipykernel)",
   "language": "python",
   "name": "python3"
  },
  "language_info": {
   "codemirror_mode": {
    "name": "ipython",
    "version": 3
   },
   "file_extension": ".py",
   "mimetype": "text/x-python",
   "name": "python",
   "nbconvert_exporter": "python",
   "pygments_lexer": "ipython3",
   "version": "3.9.12"
  }
 },
 "nbformat": 4,
 "nbformat_minor": 5
}
